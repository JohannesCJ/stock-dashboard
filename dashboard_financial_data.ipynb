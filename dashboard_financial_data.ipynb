{
 "cells": [
  {
   "cell_type": "markdown",
   "id": "247b00a3",
   "metadata": {},
   "source": [
    "# Goal: overview of my positions\n",
    "## Problem\n",
    "Apperantely, at least some of my fonds hold positions in other fonds. Whether those again hold positions in yet another fond needs to be determined.\n",
    "The first challenge will be to find all my positions and their weight. A sort of tree diagram would be helpful.\n",
    "Eventually I'd like to have a table that lists all my positions and their weights which then can be linked to the historical financial data."
   ]
  },
  {
   "cell_type": "code",
   "execution_count": null,
   "id": "enclosed-commissioner",
   "metadata": {},
   "outputs": [],
   "source": [
    "# Import initial libraries\n",
    "import pandas as pd\n",
    "import numpy as np\n",
    "import datetime\n",
    "import matplotlib.pyplot as plt\n",
    "import plotly.graph_objs as go\n",
    "%matplotlib inline"
   ]
  },
  {
   "cell_type": "code",
   "execution_count": null,
   "id": "43cb8a77",
   "metadata": {},
   "outputs": [],
   "source": [
    "import yfinance as yf\n",
    "from yahoofinancials import YahooFinancials"
   ]
  },
  {
   "cell_type": "code",
   "execution_count": null,
   "id": "0f4423cd",
   "metadata": {},
   "outputs": [],
   "source": [
    "tsla_df = yf.download(['TSLA',\n",
    "                     start='2019-01-01',\n",
    "                     end='2019-12-31',\n",
    "                     progress=False)\n",
    "tsla_df.head()"
   ]
  },
  {
   "cell_type": "code",
   "execution_count": null,
   "id": "34a4f19a",
   "metadata": {},
   "outputs": [],
   "source": [
    "ticker_string = 'EEDS'\n",
    "\n",
    "ticker = yf.Ticker(ticker_string)\n",
    "tsla_df = ticker.history()\n",
    "title_string = f\"{ticker_string}'s stock price\"\n",
    "tsla_df['Close'].plot(title=title_string)"
   ]
  },
  {
   "cell_type": "markdown",
   "id": "4a7175ff",
   "metadata": {},
   "source": [
    "Retrieve a lot of info about the company. Can be accessed as a dictionary."
   ]
  },
  {
   "cell_type": "code",
   "execution_count": null,
   "id": "087f616d",
   "metadata": {},
   "outputs": [],
   "source": [
    "ticker.info"
   ]
  },
  {
   "cell_type": "code",
   "execution_count": null,
   "id": "8344cdb2",
   "metadata": {},
   "outputs": [],
   "source": [
    "ticker.recommendations"
   ]
  },
  {
   "cell_type": "code",
   "execution_count": null,
   "id": "dcd93467",
   "metadata": {},
   "outputs": [],
   "source": [
    "ticker.actions"
   ]
  },
  {
   "cell_type": "code",
   "execution_count": null,
   "id": "1207d2aa",
   "metadata": {},
   "outputs": [],
   "source": [
    "ticker.major_holders"
   ]
  },
  {
   "cell_type": "code",
   "execution_count": null,
   "id": "e7507f58",
   "metadata": {},
   "outputs": [],
   "source": [
    "ticker.institutional_holders"
   ]
  },
  {
   "cell_type": "code",
   "execution_count": null,
   "id": "837dbc7f",
   "metadata": {},
   "outputs": [],
   "source": [
    "ticker.calendar"
   ]
  }
 ],
 "metadata": {
  "kernelspec": {
   "display_name": "Python 3",
   "language": "python",
   "name": "python3"
  },
  "language_info": {
   "codemirror_mode": {
    "name": "ipython",
    "version": 3
   },
   "file_extension": ".py",
   "mimetype": "text/x-python",
   "name": "python",
   "nbconvert_exporter": "python",
   "pygments_lexer": "ipython3",
   "version": "3.7.9"
  }
 },
 "nbformat": 4,
 "nbformat_minor": 5
}
